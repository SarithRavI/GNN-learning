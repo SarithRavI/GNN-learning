{
 "cells": [
  {
   "cell_type": "code",
   "execution_count": 1,
   "id": "28ab37c9-f6a0-4e8c-9bc1-a861246692b4",
   "metadata": {},
   "outputs": [],
   "source": [
    "import tensorflow as tf\n",
    "import spektral \n",
    "import numpy as np "
   ]
  },
  {
   "cell_type": "code",
   "execution_count": 2,
   "id": "566df2dc-71c4-4a3d-b247-ec5c2398977c",
   "metadata": {},
   "outputs": [],
   "source": [
    "physical_devices = tf.config.list_physical_devices('GPU') \n",
    "for device in physical_devices:\n",
    "    tf.config.experimental.set_memory_growth(device, True)"
   ]
  },
  {
   "cell_type": "code",
   "execution_count": 3,
   "id": "00a09c3d-8241-4da7-b1a8-287241996561",
   "metadata": {},
   "outputs": [
    {
     "name": "stderr",
     "output_type": "stream",
     "text": [
      "C:\\Users\\MSI\\anaconda3\\envs\\tensorflow_learning\\lib\\site-packages\\scipy\\sparse\\_index.py:125: SparseEfficiencyWarning: Changing the sparsity structure of a csr_matrix is expensive. lil_matrix is more efficient.\n",
      "  self._set_arrayXarray(i, j, x)\n"
     ]
    }
   ],
   "source": [
    "cora= spektral.datasets.citation.Citation('cora',random_split=True,dtype= np.float32)"
   ]
  },
  {
   "cell_type": "code",
   "execution_count": 4,
   "id": "88263d1b-ac92-4c39-9d9d-f29e03892541",
   "metadata": {},
   "outputs": [
    {
     "name": "stderr",
     "output_type": "stream",
     "text": [
      "C:\\Users\\MSI\\anaconda3\\envs\\tensorflow_learning\\lib\\site-packages\\scipy\\sparse\\_index.py:125: SparseEfficiencyWarning: Changing the sparsity structure of a csr_matrix is expensive. lil_matrix is more efficient.\n",
      "  self._set_arrayXarray(i, j, x)\n"
     ]
    },
    {
     "data": {
      "text/plain": [
       "spektral.data.graph.Graph"
      ]
     },
     "execution_count": 4,
     "metadata": {},
     "output_type": "execute_result"
    }
   ],
   "source": [
    "cora_g =  cora.read()[0]\n",
    "type(cora_g)"
   ]
  },
  {
   "cell_type": "code",
   "execution_count": 5,
   "id": "93d9eebe-6933-45af-a08e-2b5b3453599b",
   "metadata": {},
   "outputs": [],
   "source": [
    "adj= cora_g.a # note that this is a numpy sparse matrix \n",
    "features= cora_g.x\n",
    "labels=cora_g.y\n",
    "train_mask=cora.mask_tr\n",
    "val_mask=cora.mask_va\n",
    "test_mask= cora.mask_te"
   ]
  },
  {
   "cell_type": "code",
   "execution_count": 6,
   "id": "d0a4ee8a-d74b-487c-b5e1-6d00073807af",
   "metadata": {},
   "outputs": [],
   "source": [
    "adj = adj.todense()+np.eye(adj.shape[0])\n",
    "adj = adj.astype('float32')"
   ]
  },
  {
   "cell_type": "code",
   "execution_count": 7,
   "id": "e7eacb4f-0f0f-436f-9018-9b8f7c94f2f5",
   "metadata": {},
   "outputs": [],
   "source": [
    "def masked_softmax_cross_entropy(logits,labels,mask): #loss\n",
    "    loss = tf.nn.softmax_cross_entropy_with_logits(logits=logits,labels=labels)\n",
    "    mask = tf.cast(mask , dtype = tf.float32)\n",
    "    mask /= tf.reduce_mean(mask)\n",
    "    loss *= mask\n",
    "    return tf.reduce_mean(loss)\n",
    "\n",
    "def masked_accuracy(logits,labels, mask):\n",
    "    correct_prediction = tf.equal(tf.argmax(logits,1), tf.argmax(labels,1))\n",
    "    accuracy_all = tf.cast(correct_prediction,tf.float32)\n",
    "    mask = tf.cast(mask,tf.float32)\n",
    "    mask /= tf.reduce_mean(mask)\n",
    "    accuracy_all *= mask\n",
    "    return tf.reduce_mean(accuracy_all)"
   ]
  },
  {
   "cell_type": "code",
   "execution_count": 8,
   "id": "c1ddb1f2-1c88-4b83-b281-032618b77f61",
   "metadata": {},
   "outputs": [],
   "source": [
    "#There are weights so not good to wrap around tf.keras.layers.Lambda()\n",
    "class gnn_layer(tf.keras.layers.Layer):\n",
    "    def __init__(self, adj, n_out_fts, activation, **kwargs):\n",
    "        super().__init__(**kwargs)\n",
    "        self.adj = adj \n",
    "        self.units = n_out_fts \n",
    "        self.activation = tf.keras.activations.get(activation)\n",
    "        \n",
    "    def build(self,input_shape):\n",
    "        self.kernel = self.add_weight(\n",
    "        name=\"kernel_of_transform\", shape= [input_shape[-1],self.units])\n",
    "        self.bias = self.add_weight(\n",
    "            \"bias_of_transform\", shape= [self.units])\n",
    "        super().build(input_shape)\n",
    "    def call(self, fts):\n",
    "        seq_fts = fts @ self.kernel + self.bias\n",
    "        #print(\"seq_fts {} adj {}\".format(seq_fts.shape , adj.shape))\n",
    "        aggregation = self.adj @ seq_fts\n",
    "        return self.activation(aggregation)\n",
    "    \n",
    "    \n",
    "class gnn(tf.keras.models.Model):\n",
    "    def __init__(self,adj,layer_units,activations):\n",
    "        super().__init__()\n",
    "        self.layer1 = gnn_layer(adj, layer_units[0], activations[0])\n",
    "        self.layer2 = gnn_layer(adj, layer_units[1], activations[1])\n",
    "        \n",
    "    def call(self, inputs):\n",
    "        hidden = self.layer1(inputs)\n",
    "        logits = self.layer2(hidden)\n",
    "        return logits"
   ]
  },
  {
   "cell_type": "code",
   "execution_count": 10,
   "id": "b5f551da-b5dd-4c95-93d2-c4066df81923",
   "metadata": {},
   "outputs": [
    {
     "data": {
      "application/vnd.jupyter.widget-view+json": {
       "model_id": "d006549e4e9541e4841c4b00715b2667",
       "version_major": 2,
       "version_minor": 0
      },
      "text/plain": [
       "  0%|          | 0/200 [00:00<?, ?it/s]"
      ]
     },
     "metadata": {},
     "output_type": "display_data"
    },
    {
     "name": "stdout",
     "output_type": "stream",
     "text": [
      "Epoch 1/200 | Training loss 5.7407 |  Val accuracy 0.2286 | Test accuracy 0.1934\n",
      "Epoch 2/200 | Training loss 6.8915 |  Val accuracy 0.3524 | Test accuracy 0.3579\n",
      "Epoch 3/200 | Training loss 3.0230 |  Val accuracy 0.4238 | Test accuracy 0.3978\n",
      "Epoch 4/200 | Training loss 2.0236 |  Val accuracy 0.5048 | Test accuracy 0.4423\n",
      "Epoch 5/200 | Training loss 1.0718 |  Val accuracy 0.5714 | Test accuracy 0.5649\n",
      "Epoch 6/200 | Training loss 1.0757 |  Val accuracy 0.7333 | Test accuracy 0.7180\n",
      "Epoch 7/200 | Training loss 1.2641 |  Val accuracy 0.7667 | Test accuracy 0.7320\n",
      "Epoch 8/200 | Training loss 1.2131 |  Val accuracy 0.7714 | Test accuracy 0.7506\n",
      "Epoch 9/200 | Training loss 0.9938 |  Val accuracy 0.7762 | Test accuracy 0.7680\n",
      "Epoch 19/200 | Training loss 0.0973 |  Val accuracy 0.7905 | Test accuracy 0.7574\n"
     ]
    }
   ],
   "source": [
    "from tqdm.auto import tqdm, trange \n",
    "from time import sleep\n",
    "\n",
    "best_accuracy = 0.0\n",
    "epochs = 200\n",
    "lr = 0.01\n",
    "\n",
    "optimizer = tf.keras.optimizers.Adam(learning_rate = lr)\n",
    "\n",
    "model = gnn(adj,[32,7],['relu',tf.identity])\n",
    "\n",
    "for epoch in trange(1,epochs+1):\n",
    "    with tf.GradientTape(persistent = True) as tape:\n",
    "        logits = model(features)\n",
    "        loss = masked_softmax_cross_entropy(logits,labels,train_mask)\n",
    "        \n",
    "    variables =tape.watched_variables()\n",
    "    gradients = tape.gradient(loss,variables)\n",
    "    optimizer.apply_gradients(zip(gradients, variables))\n",
    "    \n",
    "    predicts  = logits\n",
    "    del tape  \n",
    "    sleep(0.001)\n",
    "    \n",
    "    val_accuracy = masked_accuracy(predicts, labels, val_mask)\n",
    "    test_accuracy = masked_accuracy(predicts, labels, test_mask)\n",
    "        \n",
    "    if val_accuracy>best_accuracy:\n",
    "        best_accuracy=val_accuracy\n",
    "        tqdm.write(\"\\rEpoch {}/{} | Training loss {:.4f} |  Val accuracy {:.4f} | Test accuracy {:.4f}\".\n",
    "                  format(epoch,epochs,loss.numpy(),val_accuracy.numpy(),test_accuracy.numpy()),\n",
    "                  end=\"\\n\" if epoch<epochs+1 else \"\" )"
   ]
  },
  {
   "cell_type": "code",
   "execution_count": null,
   "id": "2c2c547a-3711-43d1-9256-e0239373b66e",
   "metadata": {},
   "outputs": [],
   "source": []
  }
 ],
 "metadata": {
  "kernelspec": {
   "display_name": "Python 3",
   "language": "python",
   "name": "python3"
  },
  "language_info": {
   "codemirror_mode": {
    "name": "ipython",
    "version": 3
   },
   "file_extension": ".py",
   "mimetype": "text/x-python",
   "name": "python",
   "nbconvert_exporter": "python",
   "pygments_lexer": "ipython3",
   "version": "3.8.11"
  }
 },
 "nbformat": 4,
 "nbformat_minor": 5
}
